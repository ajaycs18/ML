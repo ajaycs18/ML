{
 "cells": [
  {
   "cell_type": "code",
   "execution_count": 1,
   "metadata": {
    "_cell_guid": "b1076dfc-b9ad-4769-8c92-a6c4dae69d19",
    "_uuid": "8f2839f25d086af736a60e9eeb907d3b93b6e0e5",
    "execution": {
     "iopub.execute_input": "2021-03-30T09:20:44.647069Z",
     "iopub.status.busy": "2021-03-30T09:20:44.646353Z",
     "iopub.status.idle": "2021-03-30T09:20:44.652618Z",
     "shell.execute_reply": "2021-03-30T09:20:44.651900Z"
    },
    "papermill": {
     "duration": 0.015696,
     "end_time": "2021-03-30T09:20:44.652822",
     "exception": false,
     "start_time": "2021-03-30T09:20:44.637126",
     "status": "completed"
    },
    "tags": []
   },
   "outputs": [],
   "source": [
    "import numpy as np \n",
    "import pandas as pd"
   ]
  },
  {
   "cell_type": "code",
   "execution_count": 2,
   "metadata": {
    "execution": {
     "iopub.execute_input": "2021-03-30T09:20:44.667876Z",
     "iopub.status.busy": "2021-03-30T09:20:44.667202Z",
     "iopub.status.idle": "2021-03-30T09:20:44.687129Z",
     "shell.execute_reply": "2021-03-30T09:20:44.686459Z"
    },
    "papermill": {
     "duration": 0.029457,
     "end_time": "2021-03-30T09:20:44.687305",
     "exception": false,
     "start_time": "2021-03-30T09:20:44.657848",
     "status": "completed"
    },
    "tags": []
   },
   "outputs": [],
   "source": [
    "data = pd.read_csv('../input/enjoysport/enjoysport.csv')\n",
    "X = data.to_numpy()[:, :-1]\n",
    "y = data.to_numpy()[:, -1]"
   ]
  },
  {
   "cell_type": "code",
   "execution_count": 3,
   "metadata": {
    "execution": {
     "iopub.execute_input": "2021-03-30T09:20:44.709466Z",
     "iopub.status.busy": "2021-03-30T09:20:44.708407Z",
     "iopub.status.idle": "2021-03-30T09:20:44.711773Z",
     "shell.execute_reply": "2021-03-30T09:20:44.711248Z"
    },
    "papermill": {
     "duration": 0.019609,
     "end_time": "2021-03-30T09:20:44.711916",
     "exception": false,
     "start_time": "2021-03-30T09:20:44.692307",
     "status": "completed"
    },
    "tags": []
   },
   "outputs": [],
   "source": [
    "def candidateElimination(X, y):\n",
    "    n_attrib = len(X[0])\n",
    "    specific_h = ['0' for _ in range(n_attrib)]\n",
    "    general_h = [['?' for _ in range(n_attrib)] for _ in range(n_attrib)]\n",
    "    \n",
    "    print('================ Iteration 0 ================')\n",
    "    print(f'Specific Boundary: {specific_h}')\n",
    "    print(f'General Boundary: {general_h}')\n",
    "    print()\n",
    "    \n",
    "    specific_h = X[0].copy()\n",
    "    \n",
    "    for i, x in enumerate(X):\n",
    "        print(f'================ Iteration {i + 1} ================')\n",
    "        print(f'Instance {i + 1}: {x} \\t Target: {y[i]}')\n",
    "        \n",
    "        if y[i] == 'yes':\n",
    "            for j in range(n_attrib):\n",
    "                if x[j] != specific_h[j]:\n",
    "                    specific_h[j] = '?'\n",
    "                    general_h[j][j] = '?'\n",
    "        else:\n",
    "            for j in range(n_attrib):\n",
    "                if x[j] != specific_h[j]:\n",
    "                    general_h[j][j] = specific_h[j]\n",
    "                else:\n",
    "                    general_h[j][j] = '?'\n",
    "\n",
    "        print(f'Specific Boundary: {specific_h}')\n",
    "        print(f'General Boundary: {general_h}')\n",
    "        print()\n",
    "\n",
    "    general_h = [h for h in general_h if h != ['?' for _ in range(n_attrib)]]\n",
    "    \n",
    "    print('================ Result ================')\n",
    "    print(f'Specific Boundary: {specific_h}')\n",
    "    print(f'General Boundary: {general_h}')\n",
    "    print()\n",
    "                    \n",
    "    return list(specific_h), list(general_h)"
   ]
  },
  {
   "cell_type": "code",
   "execution_count": 4,
   "metadata": {
    "execution": {
     "iopub.execute_input": "2021-03-30T09:20:44.731682Z",
     "iopub.status.busy": "2021-03-30T09:20:44.730600Z",
     "iopub.status.idle": "2021-03-30T09:20:44.740177Z",
     "shell.execute_reply": "2021-03-30T09:20:44.739552Z"
    },
    "papermill": {
     "duration": 0.023683,
     "end_time": "2021-03-30T09:20:44.740332",
     "exception": false,
     "start_time": "2021-03-30T09:20:44.716649",
     "status": "completed"
    },
    "tags": []
   },
   "outputs": [
    {
     "name": "stdout",
     "output_type": "stream",
     "text": [
      "================ Iteration 0 ================\n",
      "Specific Boundary: ['0', '0', '0', '0', '0', '0']\n",
      "General Boundary: [['?', '?', '?', '?', '?', '?'], ['?', '?', '?', '?', '?', '?'], ['?', '?', '?', '?', '?', '?'], ['?', '?', '?', '?', '?', '?'], ['?', '?', '?', '?', '?', '?'], ['?', '?', '?', '?', '?', '?']]\n",
      "\n",
      "================ Iteration 1 ================\n",
      "Instance 1: ['sunny' 'warm' 'normal' 'strong' 'warm' 'same'] \t Target: yes\n",
      "Specific Boundary: ['sunny' 'warm' 'normal' 'strong' 'warm' 'same']\n",
      "General Boundary: [['?', '?', '?', '?', '?', '?'], ['?', '?', '?', '?', '?', '?'], ['?', '?', '?', '?', '?', '?'], ['?', '?', '?', '?', '?', '?'], ['?', '?', '?', '?', '?', '?'], ['?', '?', '?', '?', '?', '?']]\n",
      "\n",
      "================ Iteration 2 ================\n",
      "Instance 2: ['sunny' 'warm' 'high' 'strong' 'warm' 'same'] \t Target: yes\n",
      "Specific Boundary: ['sunny' 'warm' '?' 'strong' 'warm' 'same']\n",
      "General Boundary: [['?', '?', '?', '?', '?', '?'], ['?', '?', '?', '?', '?', '?'], ['?', '?', '?', '?', '?', '?'], ['?', '?', '?', '?', '?', '?'], ['?', '?', '?', '?', '?', '?'], ['?', '?', '?', '?', '?', '?']]\n",
      "\n",
      "================ Iteration 3 ================\n",
      "Instance 3: ['rainy' 'cold' 'high' 'strong' 'warm' 'change'] \t Target: no\n",
      "Specific Boundary: ['sunny' 'warm' '?' 'strong' 'warm' 'same']\n",
      "General Boundary: [['sunny', '?', '?', '?', '?', '?'], ['?', 'warm', '?', '?', '?', '?'], ['?', '?', '?', '?', '?', '?'], ['?', '?', '?', '?', '?', '?'], ['?', '?', '?', '?', '?', '?'], ['?', '?', '?', '?', '?', 'same']]\n",
      "\n",
      "================ Iteration 4 ================\n",
      "Instance 4: ['sunny' 'warm' 'high' 'strong' 'cool' 'change'] \t Target: yes\n",
      "Specific Boundary: ['sunny' 'warm' '?' 'strong' '?' '?']\n",
      "General Boundary: [['sunny', '?', '?', '?', '?', '?'], ['?', 'warm', '?', '?', '?', '?'], ['?', '?', '?', '?', '?', '?'], ['?', '?', '?', '?', '?', '?'], ['?', '?', '?', '?', '?', '?'], ['?', '?', '?', '?', '?', '?']]\n",
      "\n",
      "================ Result ================\n",
      "Specific Boundary: ['sunny' 'warm' '?' 'strong' '?' '?']\n",
      "General Boundary: [['sunny', '?', '?', '?', '?', '?'], ['?', 'warm', '?', '?', '?', '?']]\n",
      "\n"
     ]
    },
    {
     "data": {
      "text/plain": [
       "(['sunny', 'warm', '?', 'strong', '?', '?'],\n",
       " [['sunny', '?', '?', '?', '?', '?'], ['?', 'warm', '?', '?', '?', '?']])"
      ]
     },
     "execution_count": 4,
     "metadata": {},
     "output_type": "execute_result"
    }
   ],
   "source": [
    "candidateElimination(X, y)"
   ]
  },
  {
   "cell_type": "code",
   "execution_count": null,
   "metadata": {
    "papermill": {
     "duration": 0.005622,
     "end_time": "2021-03-30T09:20:44.752093",
     "exception": false,
     "start_time": "2021-03-30T09:20:44.746471",
     "status": "completed"
    },
    "tags": []
   },
   "outputs": [],
   "source": []
  }
 ],
 "metadata": {
  "kernelspec": {
   "display_name": "Python 3",
   "language": "python",
   "name": "python3"
  },
  "language_info": {
   "codemirror_mode": {
    "name": "ipython",
    "version": 3
   },
   "file_extension": ".py",
   "mimetype": "text/x-python",
   "name": "python",
   "nbconvert_exporter": "python",
   "pygments_lexer": "ipython3",
   "version": "3.7.9"
  },
  "papermill": {
   "default_parameters": {},
   "duration": 6.72964,
   "end_time": "2021-03-30T09:20:45.370279",
   "environment_variables": {},
   "exception": null,
   "input_path": "__notebook__.ipynb",
   "output_path": "__notebook__.ipynb",
   "parameters": {},
   "start_time": "2021-03-30T09:20:38.640639",
   "version": "2.2.2"
  }
 },
 "nbformat": 4,
 "nbformat_minor": 4
}
