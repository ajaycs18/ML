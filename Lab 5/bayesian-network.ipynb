{
 "cells": [
  {
   "cell_type": "code",
   "execution_count": 1,
   "id": "genetic-column",
   "metadata": {
    "_cell_guid": "b1076dfc-b9ad-4769-8c92-a6c4dae69d19",
    "_uuid": "8f2839f25d086af736a60e9eeb907d3b93b6e0e5",
    "execution": {
     "iopub.execute_input": "2021-04-27T10:29:51.394218Z",
     "iopub.status.busy": "2021-04-27T10:29:51.393151Z",
     "iopub.status.idle": "2021-04-27T10:30:03.230096Z",
     "shell.execute_reply": "2021-04-27T10:30:03.228914Z"
    },
    "papermill": {
     "duration": 11.846261,
     "end_time": "2021-04-27T10:30:03.230277",
     "exception": false,
     "start_time": "2021-04-27T10:29:51.384016",
     "status": "completed"
    },
    "tags": []
   },
   "outputs": [
    {
     "name": "stdout",
     "output_type": "stream",
     "text": [
      "Collecting pgmpy\r\n",
      "  Downloading pgmpy-0.1.14-py3-none-any.whl (331 kB)\r\n",
      "\u001b[K     |████████████████████████████████| 331 kB 3.0 MB/s \r\n",
      "\u001b[?25hRequirement already satisfied: pandas in /opt/conda/lib/python3.7/site-packages (from pgmpy) (1.2.3)\r\n",
      "Requirement already satisfied: scikit-learn in /opt/conda/lib/python3.7/site-packages (from pgmpy) (0.24.1)\r\n",
      "Requirement already satisfied: scipy in /opt/conda/lib/python3.7/site-packages (from pgmpy) (1.5.4)\r\n",
      "Requirement already satisfied: torch in /opt/conda/lib/python3.7/site-packages (from pgmpy) (1.7.0)\r\n",
      "Requirement already satisfied: tqdm in /opt/conda/lib/python3.7/site-packages (from pgmpy) (4.59.0)\r\n",
      "Requirement already satisfied: joblib in /opt/conda/lib/python3.7/site-packages (from pgmpy) (1.0.1)\r\n",
      "Requirement already satisfied: pyparsing in /opt/conda/lib/python3.7/site-packages (from pgmpy) (2.4.7)\r\n",
      "Requirement already satisfied: statsmodels in /opt/conda/lib/python3.7/site-packages (from pgmpy) (0.12.2)\r\n",
      "Requirement already satisfied: networkx in /opt/conda/lib/python3.7/site-packages (from pgmpy) (2.5)\r\n",
      "Requirement already satisfied: numpy in /opt/conda/lib/python3.7/site-packages (from pgmpy) (1.19.5)\r\n",
      "Requirement already satisfied: decorator>=4.3.0 in /opt/conda/lib/python3.7/site-packages (from networkx->pgmpy) (4.4.2)\r\n",
      "Requirement already satisfied: python-dateutil>=2.7.3 in /opt/conda/lib/python3.7/site-packages (from pandas->pgmpy) (2.8.1)\r\n",
      "Requirement already satisfied: pytz>=2017.3 in /opt/conda/lib/python3.7/site-packages (from pandas->pgmpy) (2021.1)\r\n",
      "Requirement already satisfied: six>=1.5 in /opt/conda/lib/python3.7/site-packages (from python-dateutil>=2.7.3->pandas->pgmpy) (1.15.0)\r\n",
      "Requirement already satisfied: threadpoolctl>=2.0.0 in /opt/conda/lib/python3.7/site-packages (from scikit-learn->pgmpy) (2.1.0)\r\n",
      "Requirement already satisfied: patsy>=0.5 in /opt/conda/lib/python3.7/site-packages (from statsmodels->pgmpy) (0.5.1)\r\n",
      "Requirement already satisfied: future in /opt/conda/lib/python3.7/site-packages (from torch->pgmpy) (0.18.2)\r\n",
      "Requirement already satisfied: typing_extensions in /opt/conda/lib/python3.7/site-packages (from torch->pgmpy) (3.7.4.3)\r\n",
      "Requirement already satisfied: dataclasses in /opt/conda/lib/python3.7/site-packages (from torch->pgmpy) (0.6)\r\n",
      "Installing collected packages: pgmpy\r\n",
      "Successfully installed pgmpy-0.1.14\r\n"
     ]
    }
   ],
   "source": [
    "import numpy as np\n",
    "import pandas as pd\n",
    "import csv\n",
    "!pip install pgmpy\n",
    "from pgmpy.estimators import MaximumLikelihoodEstimator\n",
    "from pgmpy.models import BayesianModel\n",
    "from pgmpy.inference import VariableElimination"
   ]
  },
  {
   "cell_type": "code",
   "execution_count": 2,
   "id": "korean-contact",
   "metadata": {
    "execution": {
     "iopub.execute_input": "2021-04-27T10:30:03.250698Z",
     "iopub.status.busy": "2021-04-27T10:30:03.250070Z",
     "iopub.status.idle": "2021-04-27T10:30:03.286758Z",
     "shell.execute_reply": "2021-04-27T10:30:03.286255Z"
    },
    "papermill": {
     "duration": 0.049186,
     "end_time": "2021-04-27T10:30:03.286906",
     "exception": false,
     "start_time": "2021-04-27T10:30:03.237720",
     "status": "completed"
    },
    "tags": []
   },
   "outputs": [
    {
     "name": "stdout",
     "output_type": "stream",
     "text": [
      "Sample instances from the dataset are given below\n",
      "   age  sex  cp  trestbps  chol  fbs  restecg  thalach  exang  oldpeak  slope  \\\n",
      "0   63    1   1       145   233    1        2      150      0      2.3      3   \n",
      "1   67    1   4       160   286    0        2      108      1      1.5      2   \n",
      "2   67    1   4       120   229    0        2      129      1      2.6      2   \n",
      "3   37    1   3       130   250    0        0      187      0      3.5      3   \n",
      "4   41    0   2       130   204    0        2      172      0      1.4      1   \n",
      "\n",
      "  ca thal  heartdisease  \n",
      "0  0    6             0  \n",
      "1  3    3             2  \n",
      "2  2    7             1  \n",
      "3  0    3             0  \n",
      "4  0    3             0  \n",
      "\n",
      " Attributes and datatypes\n",
      "age               int64\n",
      "sex               int64\n",
      "cp                int64\n",
      "trestbps          int64\n",
      "chol              int64\n",
      "fbs               int64\n",
      "restecg           int64\n",
      "thalach           int64\n",
      "exang             int64\n",
      "oldpeak         float64\n",
      "slope             int64\n",
      "ca               object\n",
      "thal             object\n",
      "heartdisease      int64\n",
      "dtype: object\n"
     ]
    }
   ],
   "source": [
    "heartDisease = pd.read_csv('../input/heartdisease/heart.csv')\n",
    "heartDisease = heartDisease.replace('?',np.nan)\n",
    "\n",
    "print('Sample instances from the dataset are given below')\n",
    "print(heartDisease.head())\n",
    "print('\\n Attributes and datatypes')\n",
    "print(heartDisease.dtypes)"
   ]
  },
  {
   "cell_type": "code",
   "execution_count": 3,
   "id": "appreciated-reset",
   "metadata": {
    "execution": {
     "iopub.execute_input": "2021-04-27T10:30:03.306906Z",
     "iopub.status.busy": "2021-04-27T10:30:03.306245Z",
     "iopub.status.idle": "2021-04-27T10:30:03.309629Z",
     "shell.execute_reply": "2021-04-27T10:30:03.308964Z"
    },
    "papermill": {
     "duration": 0.015632,
     "end_time": "2021-04-27T10:30:03.309777",
     "exception": false,
     "start_time": "2021-04-27T10:30:03.294145",
     "status": "completed"
    },
    "tags": []
   },
   "outputs": [],
   "source": [
    "model = BayesianModel([('age','heartdisease'),('sex','heartdisease'),('exang','heartdisease'),('cp','heartdisease'),('heartdisease','restecg'),('heartdisease','chol')])"
   ]
  },
  {
   "cell_type": "code",
   "execution_count": 4,
   "id": "actual-liabilities",
   "metadata": {
    "execution": {
     "iopub.execute_input": "2021-04-27T10:30:03.339044Z",
     "iopub.status.busy": "2021-04-27T10:30:03.338227Z",
     "iopub.status.idle": "2021-04-27T10:30:03.547978Z",
     "shell.execute_reply": "2021-04-27T10:30:03.546752Z"
    },
    "papermill": {
     "duration": 0.230957,
     "end_time": "2021-04-27T10:30:03.548127",
     "exception": false,
     "start_time": "2021-04-27T10:30:03.317170",
     "status": "completed"
    },
    "tags": []
   },
   "outputs": [
    {
     "name": "stdout",
     "output_type": "stream",
     "text": [
      "\n",
      "Learning CPD using Maximum likelihood estimators\n",
      "\n",
      "Inferencing with Bayesian Network:\n"
     ]
    }
   ],
   "source": [
    "print('\\nLearning CPD using Maximum likelihood estimators')\n",
    "model.fit(heartDisease,estimator=MaximumLikelihoodEstimator)\n",
    "\n",
    "print('\\nInferencing with Bayesian Network:')\n",
    "HeartDiseasetest_infer = VariableElimination(model)"
   ]
  },
  {
   "cell_type": "code",
   "execution_count": 5,
   "id": "engaging-correlation",
   "metadata": {
    "execution": {
     "iopub.execute_input": "2021-04-27T10:30:03.578173Z",
     "iopub.status.busy": "2021-04-27T10:30:03.573678Z",
     "iopub.status.idle": "2021-04-27T10:30:03.785721Z",
     "shell.execute_reply": "2021-04-27T10:30:03.785113Z"
    },
    "papermill": {
     "duration": 0.229842,
     "end_time": "2021-04-27T10:30:03.785881",
     "exception": false,
     "start_time": "2021-04-27T10:30:03.556039",
     "status": "completed"
    },
    "tags": []
   },
   "outputs": [
    {
     "name": "stderr",
     "output_type": "stream",
     "text": [
      "Finding Elimination Order: :   0%|          | 0/5 [00:00<?, ?it/s]\n",
      "  0%|          | 0/5 [00:00<?, ?it/s]\u001b[A\n",
      "Finding Elimination Order: : 100%|██████████| 5/5 [00:00<00:00, 480.98it/s]\n",
      "\n",
      "Eliminating: age:   0%|          | 0/5 [00:00<?, ?it/s]\u001b[A\n",
      "Eliminating: sex:   0%|          | 0/5 [00:00<?, ?it/s]\u001b[A\n",
      "Eliminating: chol:   0%|          | 0/5 [00:00<?, ?it/s]\u001b[A\n",
      "Eliminating: exang: 100%|██████████| 5/5 [00:00<00:00, 92.85it/s]"
     ]
    },
    {
     "name": "stdout",
     "output_type": "stream",
     "text": [
      "\n",
      "1.Probability of HeartDisease given evidence = restecg :\n",
      "+-----------------+---------------------+\n",
      "| heartdisease    |   phi(heartdisease) |\n",
      "+=================+=====================+\n",
      "| heartdisease(0) |              0.1012 |\n",
      "+-----------------+---------------------+\n",
      "| heartdisease(1) |              0.0000 |\n",
      "+-----------------+---------------------+\n",
      "| heartdisease(2) |              0.2392 |\n",
      "+-----------------+---------------------+\n",
      "| heartdisease(3) |              0.2015 |\n",
      "+-----------------+---------------------+\n",
      "| heartdisease(4) |              0.4581 |\n",
      "+-----------------+---------------------+\n",
      "\n",
      "2.Probability of HeartDisease given evidence = cp :\n"
     ]
    },
    {
     "name": "stderr",
     "output_type": "stream",
     "text": [
      "\n",
      "Finding Elimination Order: :   0%|          | 0/5 [00:00<?, ?it/s]\n",
      "  0%|          | 0/5 [00:00<?, ?it/s]\u001b[A\n",
      "Eliminating: age:   0%|          | 0/5 [00:00<?, ?it/s]\u001b[A\n",
      "Eliminating: sex:   0%|          | 0/5 [00:00<?, ?it/s]\u001b[A\n",
      "Eliminating: chol:   0%|          | 0/5 [00:00<?, ?it/s]\u001b[A\n",
      "Eliminating: exang:   0%|          | 0/5 [00:00<?, ?it/s]\u001b[A\n",
      "Eliminating: restecg: 100%|██████████| 5/5 [00:00<00:00, 227.41it/s]"
     ]
    },
    {
     "name": "stdout",
     "output_type": "stream",
     "text": [
      "+-----------------+---------------------+\n",
      "| heartdisease    |   phi(heartdisease) |\n",
      "+=================+=====================+\n",
      "| heartdisease(0) |              0.3610 |\n",
      "+-----------------+---------------------+\n",
      "| heartdisease(1) |              0.2159 |\n",
      "+-----------------+---------------------+\n",
      "| heartdisease(2) |              0.1373 |\n",
      "+-----------------+---------------------+\n",
      "| heartdisease(3) |              0.1537 |\n",
      "+-----------------+---------------------+\n",
      "| heartdisease(4) |              0.1321 |\n",
      "+-----------------+---------------------+\n"
     ]
    },
    {
     "name": "stderr",
     "output_type": "stream",
     "text": [
      "\n"
     ]
    }
   ],
   "source": [
    "print('\\n1.Probability of HeartDisease given evidence = restecg :')\n",
    "q1=HeartDiseasetest_infer.query(variables=['heartdisease'],evidence={'restecg':1})\n",
    "print(q1)\n",
    "\n",
    "print('\\n2.Probability of HeartDisease given evidence = cp :')\n",
    "q2=HeartDiseasetest_infer.query(variables=['heartdisease'],evidence={'cp':2})\n",
    "print(q2)"
   ]
  },
  {
   "cell_type": "code",
   "execution_count": null,
   "id": "earned-statement",
   "metadata": {
    "papermill": {
     "duration": 0.018079,
     "end_time": "2021-04-27T10:30:03.822555",
     "exception": false,
     "start_time": "2021-04-27T10:30:03.804476",
     "status": "completed"
    },
    "tags": []
   },
   "outputs": [],
   "source": []
  }
 ],
 "metadata": {
  "kernelspec": {
   "display_name": "Python 3",
   "language": "python",
   "name": "python3"
  },
  "language_info": {
   "codemirror_mode": {
    "name": "ipython",
    "version": 3
   },
   "file_extension": ".py",
   "mimetype": "text/x-python",
   "name": "python",
   "nbconvert_exporter": "python",
   "pygments_lexer": "ipython3",
   "version": "3.7.10"
  },
  "papermill": {
   "default_parameters": {},
   "duration": 21.932169,
   "end_time": "2021-04-27T10:30:05.646697",
   "environment_variables": {},
   "exception": null,
   "input_path": "__notebook__.ipynb",
   "output_path": "__notebook__.ipynb",
   "parameters": {},
   "start_time": "2021-04-27T10:29:43.714528",
   "version": "2.3.3"
  }
 },
 "nbformat": 4,
 "nbformat_minor": 5
}
