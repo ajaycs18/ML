{
 "cells": [
  {
   "cell_type": "code",
   "execution_count": 1,
   "id": "guilty-installation",
   "metadata": {
    "_cell_guid": "b1076dfc-b9ad-4769-8c92-a6c4dae69d19",
    "_uuid": "8f2839f25d086af736a60e9eeb907d3b93b6e0e5",
    "execution": {
     "iopub.execute_input": "2021-04-20T10:23:12.191177Z",
     "iopub.status.busy": "2021-04-20T10:23:12.190005Z",
     "iopub.status.idle": "2021-04-20T10:23:12.194241Z",
     "shell.execute_reply": "2021-04-20T10:23:12.194781Z"
    },
    "papermill": {
     "duration": 0.014659,
     "end_time": "2021-04-20T10:23:12.195101",
     "exception": false,
     "start_time": "2021-04-20T10:23:12.180442",
     "status": "completed"
    },
    "tags": []
   },
   "outputs": [],
   "source": [
    "import csv\n",
    "import random\n",
    "import math"
   ]
  },
  {
   "cell_type": "code",
   "execution_count": 2,
   "id": "forward-andrew",
   "metadata": {
    "_cell_guid": "b1076dfc-b9ad-4769-8c92-a6c4dae69d19",
    "_uuid": "8f2839f25d086af736a60e9eeb907d3b93b6e0e5",
    "execution": {
     "iopub.execute_input": "2021-04-20T10:23:12.219051Z",
     "iopub.status.busy": "2021-04-20T10:23:12.213711Z",
     "iopub.status.idle": "2021-04-20T10:23:12.233298Z",
     "shell.execute_reply": "2021-04-20T10:23:12.232559Z"
    },
    "papermill": {
     "duration": 0.033166,
     "end_time": "2021-04-20T10:23:12.233449",
     "exception": false,
     "start_time": "2021-04-20T10:23:12.200283",
     "status": "completed"
    },
    "tags": []
   },
   "outputs": [],
   "source": [
    "def load_csv(filename):\n",
    "    lines = csv.reader(open(filename, \"r\"));\n",
    "    dataset = list(lines)\n",
    "    for i in range(len(dataset)):\n",
    "        dataset[i] = [float(x) for x in dataset[i]]\n",
    "    return dataset\n",
    "\n",
    "def split_dataset(dataset, splitratio):\n",
    "    trainsize = int(len(dataset) * splitratio);\n",
    "    trainset = []\n",
    "    copy = list(dataset);\n",
    "    while len(trainset) < trainsize:\n",
    "        index = random.randrange(len(copy));\n",
    "        trainset.append(copy.pop(index))\n",
    "    return [trainset, copy]\n",
    "\n",
    "def separate_by_class(dataset):\n",
    "    separated = {} \n",
    "    for i in range(len(dataset)):\n",
    "        vector = dataset[i]\n",
    "        if (vector[-1] not in separated):\n",
    "            separated[vector[-1]] = []\n",
    "        separated[vector[-1]].append(vector)\n",
    "    return separated\n",
    "\n",
    "def mean(numbers):\n",
    "    return sum(numbers)/float(len(numbers))\n",
    "\n",
    "def std_dev(numbers):\n",
    "    avg = mean(numbers)\n",
    "    variance = sum([pow(x-avg,2) for x in numbers])/float(len(numbers)-1)\n",
    "    return math.sqrt(variance)\n",
    "\n",
    "def summarize(dataset): \n",
    "    summaries = [(mean(attribute), std_dev(attribute)) for attribute in zip(*dataset)];\n",
    "    del summaries[-1] \n",
    "    return summaries\n",
    "\n",
    "def summarize_by_class(dataset):\n",
    "    separated = separate_by_class(dataset);\n",
    "    summaries = {}\n",
    "    for classvalue, instances in separated.items():\n",
    "        summaries[classvalue] = summarize(instances)\n",
    "    return summaries\n",
    "\n",
    "def calculate_probability(x, mean, stdev):\n",
    "    exponent = math.exp(-(math.pow(x-mean,2)/(2*math.pow(stdev,2))))\n",
    "    return (1 / (math.sqrt(2*math.pi) * stdev)) * exponent\n",
    "\n",
    "def calculate_class_probabilities(summaries, inputvector):\n",
    "    probabilities = {}\n",
    "    for classvalue, classsummaries in summaries.items():\n",
    "        probabilities[classvalue] = 1\n",
    "    for i in range(len(classsummaries)):\n",
    "        mean, stdev = classsummaries[i] \n",
    "        x = inputvector[i] \n",
    "        probabilities[classvalue] *= calculate_probability(x, mean, stdev) \n",
    "    return probabilities\n",
    "\n",
    "def predict(summaries, inputvector): \n",
    "    probabilities = calculate_class_probabilities(summaries, inputvector)\n",
    "    bestLabel, bestProb = None, -1\n",
    "    for classvalue, probability in probabilities.items():\n",
    "        if bestLabel is None or probability > bestProb:\n",
    "            bestProb = probability\n",
    "            bestLabel = classvalue\n",
    "    return bestLabel\n",
    "\n",
    "def get_predictions(summaries, testset):\n",
    "    predictions = []\n",
    "    for i in range(len(testset)):\n",
    "        result = predict(summaries, testset[i])\n",
    "        predictions.append(result)\n",
    "    return predictions\n",
    "\n",
    "def get_accuracy(testset, predictions):\n",
    "    correct = 0\n",
    "    for i in range(len(testset)):\n",
    "        if testset[i][-1] == predictions[i]:\n",
    "            correct += 1\n",
    "    return (correct/float(len(testset))) * 100.0"
   ]
  },
  {
   "cell_type": "code",
   "execution_count": 3,
   "id": "protected-arkansas",
   "metadata": {
    "_cell_guid": "b1076dfc-b9ad-4769-8c92-a6c4dae69d19",
    "_uuid": "8f2839f25d086af736a60e9eeb907d3b93b6e0e5",
    "execution": {
     "iopub.execute_input": "2021-04-20T10:23:12.250030Z",
     "iopub.status.busy": "2021-04-20T10:23:12.249351Z",
     "iopub.status.idle": "2021-04-20T10:23:12.278464Z",
     "shell.execute_reply": "2021-04-20T10:23:12.279019Z"
    },
    "papermill": {
     "duration": 0.041097,
     "end_time": "2021-04-20T10:23:12.279249",
     "exception": false,
     "start_time": "2021-04-20T10:23:12.238152",
     "status": "completed"
    },
    "tags": []
   },
   "outputs": [
    {
     "name": "stdout",
     "output_type": "stream",
     "text": [
      "Split 768 rows into train=514 and test=254 rows\n",
      "Accuracy of the classifier is :64.96062992125984%\n"
     ]
    }
   ],
   "source": [
    "splitratio = 0.67\n",
    "dataset = load_csv('../input/pimaindiansdiabetescsv/pima-indians-diabetes.csv');\n",
    "\n",
    "trainingset, testset = split_dataset(dataset, splitratio)\n",
    "\n",
    "print(f'Split {len(dataset)} rows into train={len(trainingset)} and test={len(testset)} rows')\n",
    "\n",
    "summaries = summarize_by_class(trainingset);\n",
    "predictions = get_predictions(summaries, testset)\n",
    "accuracy = get_accuracy(testset, predictions)\n",
    "\n",
    "print(f'Accuracy of the classifier is :{accuracy}%')"
   ]
  },
  {
   "cell_type": "code",
   "execution_count": null,
   "id": "metallic-movement",
   "metadata": {
    "papermill": {
     "duration": 0.005366,
     "end_time": "2021-04-20T10:23:12.291130",
     "exception": false,
     "start_time": "2021-04-20T10:23:12.285764",
     "status": "completed"
    },
    "tags": []
   },
   "outputs": [],
   "source": []
  }
 ],
 "metadata": {
  "kernelspec": {
   "display_name": "Python 3",
   "language": "python",
   "name": "python3"
  },
  "language_info": {
   "codemirror_mode": {
    "name": "ipython",
    "version": 3
   },
   "file_extension": ".py",
   "mimetype": "text/x-python",
   "name": "python",
   "nbconvert_exporter": "python",
   "pygments_lexer": "ipython3",
   "version": "3.7.9"
  },
  "papermill": {
   "default_parameters": {},
   "duration": 8.305997,
   "end_time": "2021-04-20T10:23:13.011511",
   "environment_variables": {},
   "exception": null,
   "input_path": "__notebook__.ipynb",
   "output_path": "__notebook__.ipynb",
   "parameters": {},
   "start_time": "2021-04-20T10:23:04.705514",
   "version": "2.3.2"
  }
 },
 "nbformat": 4,
 "nbformat_minor": 5
}
