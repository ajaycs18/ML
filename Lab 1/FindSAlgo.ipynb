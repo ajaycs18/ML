{
 "cells": [
  {
   "cell_type": "code",
   "execution_count": null,
   "metadata": {},
   "outputs": [],
   "source": [
    "# find s algorithm\n",
    "\n",
    "### ajay mittur 1bm18cs006"
   ]
  },
  {
   "cell_type": "code",
   "execution_count": null,
   "metadata": {},
   "outputs": [],
   "source": [
    "# Interactive\n",
    "\n",
    "len_x = int(input('enter no. of samples: '))\n",
    "x = []\n",
    "attrib = input('enter attributes: ').split()\n",
    "n_attrib = len(attrib)\n",
    "for i in range(len_x):\n",
    "    X = input(f'enter sample {i}: ').split()\n",
    "    x.append(X)\n",
    "y = []\n",
    "for i in range(len_x):\n",
    "    Y = input(f'output for sample {i} (true/false): ')\n",
    "    Y = Y.lower()\n",
    "    y.append(True if Y == 'true' else False)"
   ]
  },
  {
   "cell_type": "code",
   "execution_count": 4,
   "metadata": {},
   "outputs": [
    {
     "name": "stdout",
     "output_type": "stream",
     "text": [
      "   temp       time is_holiday  result\n",
      "0   hot  afternoon        yes    True\n",
      "1   hot    morning         no   False\n",
      "2  cold  afternoon        yes    True\n",
      "[['hot' 'afternoon' 'yes']\n",
      " ['hot' 'morning' 'no']\n",
      " ['cold' 'afternoon' 'yes']]\n",
      "[True False True]\n"
     ]
    }
   ],
   "source": [
    "# Read from csv\n",
    "\n",
    "import pandas as pd\n",
    "import numpy as np\n",
    "\n",
    "data = pd.read_csv(\"data.csv\")\n",
    "print(data)\n",
    "x = np.array(data)[:,:-1]\n",
    "y = np.array(data)[:,-1]\n",
    "len_x = len(x)\n",
    "print(x)\n",
    "print(y)"
   ]
  },
  {
   "cell_type": "code",
   "execution_count": 7,
   "metadata": {},
   "outputs": [],
   "source": [
    "def findSAlgo(x, y, len_x):\n",
    "    h = x[0] # initial generalization\n",
    "    \n",
    "    for i in range(1, len_x):\n",
    "        if not y[i]:\n",
    "            continue\n",
    "            \n",
    "        for j, attrib in enumerate(x[i]):\n",
    "            if h[j] != attrib:\n",
    "                h[j] = '?'\n",
    "    \n",
    "    return h"
   ]
  },
  {
   "cell_type": "code",
   "execution_count": 8,
   "metadata": {},
   "outputs": [
    {
     "data": {
      "text/plain": [
       "array(['?', 'afternoon', 'yes'], dtype=object)"
      ]
     },
     "execution_count": 8,
     "metadata": {},
     "output_type": "execute_result"
    }
   ],
   "source": [
    "findSAlgo(x, y, len_x)"
   ]
  },
  {
   "cell_type": "code",
   "execution_count": null,
   "metadata": {},
   "outputs": [],
   "source": []
  }
 ],
 "metadata": {
  "kernelspec": {
   "display_name": "Python 3",
   "language": "python",
   "name": "python3"
  },
  "language_info": {
   "codemirror_mode": {
    "name": "ipython",
    "version": 3
   },
   "file_extension": ".py",
   "mimetype": "text/x-python",
   "name": "python",
   "nbconvert_exporter": "python",
   "pygments_lexer": "ipython3",
   "version": "3.7.0"
  }
 },
 "nbformat": 4,
 "nbformat_minor": 2
}
